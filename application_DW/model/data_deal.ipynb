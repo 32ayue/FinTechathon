{
 "cells": [
  {
   "cell_type": "code",
   "execution_count": 2,
   "metadata": {
    "collapsed": true,
    "pycharm": {
     "name": "#%%\n"
    }
   },
   "outputs": [],
   "source": [
    "import numpy as np\n",
    "import pandas as pd"
   ]
  },
  {
   "cell_type": "markdown",
   "source": [
    "# 对提供的数据集整合并划分训练集和验证集"
   ],
   "metadata": {
    "collapsed": false,
    "pycharm": {
     "name": "#%% md\n"
    }
   }
  },
  {
   "cell_type": "code",
   "execution_count": 4,
   "outputs": [
    {
     "data": {
      "text/plain": "       classes                                          urls\n0           11                              nx3.hhhtklch.com\n1            2                                    qdhkdn.com\n2            2                                   retrwerw.cn\n3            0  c688a3a485c9c452b85cd79c071ae73f.jddebug.com\n4            0            1656213086865.032.sngdia.imtmp.net\n...        ...                                           ...\n46106        2                             www.lijun0539.com\n46107        0            1656691434471.005.sngdia.imtmp.net\n46108        0  b941a3b6f6985f05e9510dae3e412680.jddebug.com\n46109        0                              dyibvm.8wuqjs.cn\n46110        0        1656403225.2514038109.sngdia.imtmp.net\n\n[46111 rows x 2 columns]",
      "text/html": "<div>\n<style scoped>\n    .dataframe tbody tr th:only-of-type {\n        vertical-align: middle;\n    }\n\n    .dataframe tbody tr th {\n        vertical-align: top;\n    }\n\n    .dataframe thead th {\n        text-align: right;\n    }\n</style>\n<table border=\"1\" class=\"dataframe\">\n  <thead>\n    <tr style=\"text-align: right;\">\n      <th></th>\n      <th>classes</th>\n      <th>urls</th>\n    </tr>\n  </thead>\n  <tbody>\n    <tr>\n      <th>0</th>\n      <td>11</td>\n      <td>nx3.hhhtklch.com</td>\n    </tr>\n    <tr>\n      <th>1</th>\n      <td>2</td>\n      <td>qdhkdn.com</td>\n    </tr>\n    <tr>\n      <th>2</th>\n      <td>2</td>\n      <td>retrwerw.cn</td>\n    </tr>\n    <tr>\n      <th>3</th>\n      <td>0</td>\n      <td>c688a3a485c9c452b85cd79c071ae73f.jddebug.com</td>\n    </tr>\n    <tr>\n      <th>4</th>\n      <td>0</td>\n      <td>1656213086865.032.sngdia.imtmp.net</td>\n    </tr>\n    <tr>\n      <th>...</th>\n      <td>...</td>\n      <td>...</td>\n    </tr>\n    <tr>\n      <th>46106</th>\n      <td>2</td>\n      <td>www.lijun0539.com</td>\n    </tr>\n    <tr>\n      <th>46107</th>\n      <td>0</td>\n      <td>1656691434471.005.sngdia.imtmp.net</td>\n    </tr>\n    <tr>\n      <th>46108</th>\n      <td>0</td>\n      <td>b941a3b6f6985f05e9510dae3e412680.jddebug.com</td>\n    </tr>\n    <tr>\n      <th>46109</th>\n      <td>0</td>\n      <td>dyibvm.8wuqjs.cn</td>\n    </tr>\n    <tr>\n      <th>46110</th>\n      <td>0</td>\n      <td>1656403225.2514038109.sngdia.imtmp.net</td>\n    </tr>\n  </tbody>\n</table>\n<p>46111 rows × 2 columns</p>\n</div>"
     },
     "execution_count": 4,
     "metadata": {},
     "output_type": "execute_result"
    }
   ],
   "source": [
    "train_data = pd.read_csv('data/train.csv', names=['classes', 'urls'])\n",
    "train_data"
   ],
   "metadata": {
    "collapsed": false,
    "pycharm": {
     "name": "#%%\n"
    }
   }
  },
  {
   "cell_type": "code",
   "execution_count": 5,
   "outputs": [
    {
     "data": {
      "text/plain": "       classes                                               urls\n0            6                                         thjchy.com\n1            2                                   www.xiexie58.com\n2            2                                      www.51osc.com\n3            2                                     www.adcadx.com\n4            2                                   www.kzsolder.com\n...        ...                                                ...\n11523       11                              http://chen339949.top\n11524       11                       https://www.renwujun.com.cn/\n11525       11  http://112.15.232.43:8081/warning.html?u=http%...\n11526       11                                http://wxj.zmtsq.cn\n11527       11                                 http://qmds233.com\n\n[11528 rows x 2 columns]",
      "text/html": "<div>\n<style scoped>\n    .dataframe tbody tr th:only-of-type {\n        vertical-align: middle;\n    }\n\n    .dataframe tbody tr th {\n        vertical-align: top;\n    }\n\n    .dataframe thead th {\n        text-align: right;\n    }\n</style>\n<table border=\"1\" class=\"dataframe\">\n  <thead>\n    <tr style=\"text-align: right;\">\n      <th></th>\n      <th>classes</th>\n      <th>urls</th>\n    </tr>\n  </thead>\n  <tbody>\n    <tr>\n      <th>0</th>\n      <td>6</td>\n      <td>thjchy.com</td>\n    </tr>\n    <tr>\n      <th>1</th>\n      <td>2</td>\n      <td>www.xiexie58.com</td>\n    </tr>\n    <tr>\n      <th>2</th>\n      <td>2</td>\n      <td>www.51osc.com</td>\n    </tr>\n    <tr>\n      <th>3</th>\n      <td>2</td>\n      <td>www.adcadx.com</td>\n    </tr>\n    <tr>\n      <th>4</th>\n      <td>2</td>\n      <td>www.kzsolder.com</td>\n    </tr>\n    <tr>\n      <th>...</th>\n      <td>...</td>\n      <td>...</td>\n    </tr>\n    <tr>\n      <th>11523</th>\n      <td>11</td>\n      <td>http://chen339949.top</td>\n    </tr>\n    <tr>\n      <th>11524</th>\n      <td>11</td>\n      <td>https://www.renwujun.com.cn/</td>\n    </tr>\n    <tr>\n      <th>11525</th>\n      <td>11</td>\n      <td>http://112.15.232.43:8081/warning.html?u=http%...</td>\n    </tr>\n    <tr>\n      <th>11526</th>\n      <td>11</td>\n      <td>http://wxj.zmtsq.cn</td>\n    </tr>\n    <tr>\n      <th>11527</th>\n      <td>11</td>\n      <td>http://qmds233.com</td>\n    </tr>\n  </tbody>\n</table>\n<p>11528 rows × 2 columns</p>\n</div>"
     },
     "execution_count": 5,
     "metadata": {},
     "output_type": "execute_result"
    }
   ],
   "source": [
    "val_data = pd.read_csv('data/val.csv', names=['classes', 'urls'])\n",
    "val_data"
   ],
   "metadata": {
    "collapsed": false,
    "pycharm": {
     "name": "#%%\n"
    }
   }
  },
  {
   "cell_type": "code",
   "execution_count": 6,
   "outputs": [
    {
     "data": {
      "text/plain": "       classes                                               urls\n0           11                                   nx3.hhhtklch.com\n1            2                                         qdhkdn.com\n2            2                                        retrwerw.cn\n3            0       c688a3a485c9c452b85cd79c071ae73f.jddebug.com\n4            0                 1656213086865.032.sngdia.imtmp.net\n...        ...                                                ...\n57634       11                              http://chen339949.top\n57635       11                       https://www.renwujun.com.cn/\n57636       11  http://112.15.232.43:8081/warning.html?u=http%...\n57637       11                                http://wxj.zmtsq.cn\n57638       11                                 http://qmds233.com\n\n[57639 rows x 2 columns]",
      "text/html": "<div>\n<style scoped>\n    .dataframe tbody tr th:only-of-type {\n        vertical-align: middle;\n    }\n\n    .dataframe tbody tr th {\n        vertical-align: top;\n    }\n\n    .dataframe thead th {\n        text-align: right;\n    }\n</style>\n<table border=\"1\" class=\"dataframe\">\n  <thead>\n    <tr style=\"text-align: right;\">\n      <th></th>\n      <th>classes</th>\n      <th>urls</th>\n    </tr>\n  </thead>\n  <tbody>\n    <tr>\n      <th>0</th>\n      <td>11</td>\n      <td>nx3.hhhtklch.com</td>\n    </tr>\n    <tr>\n      <th>1</th>\n      <td>2</td>\n      <td>qdhkdn.com</td>\n    </tr>\n    <tr>\n      <th>2</th>\n      <td>2</td>\n      <td>retrwerw.cn</td>\n    </tr>\n    <tr>\n      <th>3</th>\n      <td>0</td>\n      <td>c688a3a485c9c452b85cd79c071ae73f.jddebug.com</td>\n    </tr>\n    <tr>\n      <th>4</th>\n      <td>0</td>\n      <td>1656213086865.032.sngdia.imtmp.net</td>\n    </tr>\n    <tr>\n      <th>...</th>\n      <td>...</td>\n      <td>...</td>\n    </tr>\n    <tr>\n      <th>57634</th>\n      <td>11</td>\n      <td>http://chen339949.top</td>\n    </tr>\n    <tr>\n      <th>57635</th>\n      <td>11</td>\n      <td>https://www.renwujun.com.cn/</td>\n    </tr>\n    <tr>\n      <th>57636</th>\n      <td>11</td>\n      <td>http://112.15.232.43:8081/warning.html?u=http%...</td>\n    </tr>\n    <tr>\n      <th>57637</th>\n      <td>11</td>\n      <td>http://wxj.zmtsq.cn</td>\n    </tr>\n    <tr>\n      <th>57638</th>\n      <td>11</td>\n      <td>http://qmds233.com</td>\n    </tr>\n  </tbody>\n</table>\n<p>57639 rows × 2 columns</p>\n</div>"
     },
     "execution_count": 6,
     "metadata": {},
     "output_type": "execute_result"
    }
   ],
   "source": [
    "old_data = train_data.append(val_data, ignore_index=True)\n",
    "old_data"
   ],
   "metadata": {
    "collapsed": false,
    "pycharm": {
     "name": "#%%\n"
    }
   }
  },
  {
   "cell_type": "code",
   "execution_count": 8,
   "outputs": [
    {
     "data": {
      "text/plain": "          urls\nclasses       \n0        35090\n1           22\n2        17780\n5            2\n6         2603\n9          595\n10         998\n11         549",
      "text/html": "<div>\n<style scoped>\n    .dataframe tbody tr th:only-of-type {\n        vertical-align: middle;\n    }\n\n    .dataframe tbody tr th {\n        vertical-align: top;\n    }\n\n    .dataframe thead th {\n        text-align: right;\n    }\n</style>\n<table border=\"1\" class=\"dataframe\">\n  <thead>\n    <tr style=\"text-align: right;\">\n      <th></th>\n      <th>urls</th>\n    </tr>\n    <tr>\n      <th>classes</th>\n      <th></th>\n    </tr>\n  </thead>\n  <tbody>\n    <tr>\n      <th>0</th>\n      <td>35090</td>\n    </tr>\n    <tr>\n      <th>1</th>\n      <td>22</td>\n    </tr>\n    <tr>\n      <th>2</th>\n      <td>17780</td>\n    </tr>\n    <tr>\n      <th>5</th>\n      <td>2</td>\n    </tr>\n    <tr>\n      <th>6</th>\n      <td>2603</td>\n    </tr>\n    <tr>\n      <th>9</th>\n      <td>595</td>\n    </tr>\n    <tr>\n      <th>10</th>\n      <td>998</td>\n    </tr>\n    <tr>\n      <th>11</th>\n      <td>549</td>\n    </tr>\n  </tbody>\n</table>\n</div>"
     },
     "execution_count": 8,
     "metadata": {},
     "output_type": "execute_result"
    }
   ],
   "source": [
    "old_data.groupby(['classes']).count()"
   ],
   "metadata": {
    "collapsed": false,
    "pycharm": {
     "name": "#%%\n"
    }
   }
  },
  {
   "cell_type": "code",
   "execution_count": 17,
   "outputs": [
    {
     "data": {
      "text/plain": "                      urls  classes\n0              0e0ubr.cyou        3\n1            aidinghao.com        3\n2              dodoke1.com        3\n3               ftxpor.com        3\n4               gfhe12.vip        3\n...                    ...      ...\n5727         s.1717388.com        4\n5728             56gan.com        4\n5729  fxswxz1.zhanyu55.com        4\n5730          x.flmall.vip        4\n5731     www.basirlabs.com        4\n\n[5732 rows x 2 columns]",
      "text/html": "<div>\n<style scoped>\n    .dataframe tbody tr th:only-of-type {\n        vertical-align: middle;\n    }\n\n    .dataframe tbody tr th {\n        vertical-align: top;\n    }\n\n    .dataframe thead th {\n        text-align: right;\n    }\n</style>\n<table border=\"1\" class=\"dataframe\">\n  <thead>\n    <tr style=\"text-align: right;\">\n      <th></th>\n      <th>urls</th>\n      <th>classes</th>\n    </tr>\n  </thead>\n  <tbody>\n    <tr>\n      <th>0</th>\n      <td>0e0ubr.cyou</td>\n      <td>3</td>\n    </tr>\n    <tr>\n      <th>1</th>\n      <td>aidinghao.com</td>\n      <td>3</td>\n    </tr>\n    <tr>\n      <th>2</th>\n      <td>dodoke1.com</td>\n      <td>3</td>\n    </tr>\n    <tr>\n      <th>3</th>\n      <td>ftxpor.com</td>\n      <td>3</td>\n    </tr>\n    <tr>\n      <th>4</th>\n      <td>gfhe12.vip</td>\n      <td>3</td>\n    </tr>\n    <tr>\n      <th>...</th>\n      <td>...</td>\n      <td>...</td>\n    </tr>\n    <tr>\n      <th>5727</th>\n      <td>s.1717388.com</td>\n      <td>4</td>\n    </tr>\n    <tr>\n      <th>5728</th>\n      <td>56gan.com</td>\n      <td>4</td>\n    </tr>\n    <tr>\n      <th>5729</th>\n      <td>fxswxz1.zhanyu55.com</td>\n      <td>4</td>\n    </tr>\n    <tr>\n      <th>5730</th>\n      <td>x.flmall.vip</td>\n      <td>4</td>\n    </tr>\n    <tr>\n      <th>5731</th>\n      <td>www.basirlabs.com</td>\n      <td>4</td>\n    </tr>\n  </tbody>\n</table>\n<p>5732 rows × 2 columns</p>\n</div>"
     },
     "execution_count": 17,
     "metadata": {},
     "output_type": "execute_result"
    }
   ],
   "source": [
    "new_data = pd.read_excel('data/new_train1.xlsx', names=['urls', 'classes'])\n",
    "new_data"
   ],
   "metadata": {
    "collapsed": false,
    "pycharm": {
     "name": "#%%\n"
    }
   }
  },
  {
   "cell_type": "code",
   "execution_count": 16,
   "outputs": [
    {
     "data": {
      "text/plain": "         urls\nclasses      \n3         173\n4        4658\n7          11\n8         883\n12          7",
      "text/html": "<div>\n<style scoped>\n    .dataframe tbody tr th:only-of-type {\n        vertical-align: middle;\n    }\n\n    .dataframe tbody tr th {\n        vertical-align: top;\n    }\n\n    .dataframe thead th {\n        text-align: right;\n    }\n</style>\n<table border=\"1\" class=\"dataframe\">\n  <thead>\n    <tr style=\"text-align: right;\">\n      <th></th>\n      <th>urls</th>\n    </tr>\n    <tr>\n      <th>classes</th>\n      <th></th>\n    </tr>\n  </thead>\n  <tbody>\n    <tr>\n      <th>3</th>\n      <td>173</td>\n    </tr>\n    <tr>\n      <th>4</th>\n      <td>4658</td>\n    </tr>\n    <tr>\n      <th>7</th>\n      <td>11</td>\n    </tr>\n    <tr>\n      <th>8</th>\n      <td>883</td>\n    </tr>\n    <tr>\n      <th>12</th>\n      <td>7</td>\n    </tr>\n  </tbody>\n</table>\n</div>"
     },
     "execution_count": 16,
     "metadata": {},
     "output_type": "execute_result"
    }
   ],
   "source": [
    "new_data.groupby(['classes']).count()"
   ],
   "metadata": {
    "collapsed": false,
    "pycharm": {
     "name": "#%%\n"
    }
   }
  },
  {
   "cell_type": "code",
   "execution_count": 15,
   "outputs": [
    {
     "data": {
      "text/plain": "       classes                                          urls\n0           11                              nx3.hhhtklch.com\n1            2                                    qdhkdn.com\n2            2                                   retrwerw.cn\n3            0  c688a3a485c9c452b85cd79c071ae73f.jddebug.com\n4            0            1656213086865.032.sngdia.imtmp.net\n...        ...                                           ...\n63366        4                                 s.1717388.com\n63367        4                                     56gan.com\n63368        4                          fxswxz1.zhanyu55.com\n63369        4                                  x.flmall.vip\n63370        4                             www.basirlabs.com\n\n[63371 rows x 2 columns]",
      "text/html": "<div>\n<style scoped>\n    .dataframe tbody tr th:only-of-type {\n        vertical-align: middle;\n    }\n\n    .dataframe tbody tr th {\n        vertical-align: top;\n    }\n\n    .dataframe thead th {\n        text-align: right;\n    }\n</style>\n<table border=\"1\" class=\"dataframe\">\n  <thead>\n    <tr style=\"text-align: right;\">\n      <th></th>\n      <th>classes</th>\n      <th>urls</th>\n    </tr>\n  </thead>\n  <tbody>\n    <tr>\n      <th>0</th>\n      <td>11</td>\n      <td>nx3.hhhtklch.com</td>\n    </tr>\n    <tr>\n      <th>1</th>\n      <td>2</td>\n      <td>qdhkdn.com</td>\n    </tr>\n    <tr>\n      <th>2</th>\n      <td>2</td>\n      <td>retrwerw.cn</td>\n    </tr>\n    <tr>\n      <th>3</th>\n      <td>0</td>\n      <td>c688a3a485c9c452b85cd79c071ae73f.jddebug.com</td>\n    </tr>\n    <tr>\n      <th>4</th>\n      <td>0</td>\n      <td>1656213086865.032.sngdia.imtmp.net</td>\n    </tr>\n    <tr>\n      <th>...</th>\n      <td>...</td>\n      <td>...</td>\n    </tr>\n    <tr>\n      <th>63366</th>\n      <td>4</td>\n      <td>s.1717388.com</td>\n    </tr>\n    <tr>\n      <th>63367</th>\n      <td>4</td>\n      <td>56gan.com</td>\n    </tr>\n    <tr>\n      <th>63368</th>\n      <td>4</td>\n      <td>fxswxz1.zhanyu55.com</td>\n    </tr>\n    <tr>\n      <th>63369</th>\n      <td>4</td>\n      <td>x.flmall.vip</td>\n    </tr>\n    <tr>\n      <th>63370</th>\n      <td>4</td>\n      <td>www.basirlabs.com</td>\n    </tr>\n  </tbody>\n</table>\n<p>63371 rows × 2 columns</p>\n</div>"
     },
     "execution_count": 15,
     "metadata": {},
     "output_type": "execute_result"
    }
   ],
   "source": [
    "all_data = old_data.append(new_data, ignore_index=True)\n",
    "all_data"
   ],
   "metadata": {
    "collapsed": false,
    "pycharm": {
     "name": "#%%\n"
    }
   }
  },
  {
   "cell_type": "code",
   "execution_count": 19,
   "outputs": [
    {
     "data": {
      "text/plain": "          urls\nclasses       \n0        35090\n1           22\n2        17780\n3          173\n4         4658\n5            2\n6         2603\n7           11\n8          883\n9          595\n10         998\n11         549\n12           7",
      "text/html": "<div>\n<style scoped>\n    .dataframe tbody tr th:only-of-type {\n        vertical-align: middle;\n    }\n\n    .dataframe tbody tr th {\n        vertical-align: top;\n    }\n\n    .dataframe thead th {\n        text-align: right;\n    }\n</style>\n<table border=\"1\" class=\"dataframe\">\n  <thead>\n    <tr style=\"text-align: right;\">\n      <th></th>\n      <th>urls</th>\n    </tr>\n    <tr>\n      <th>classes</th>\n      <th></th>\n    </tr>\n  </thead>\n  <tbody>\n    <tr>\n      <th>0</th>\n      <td>35090</td>\n    </tr>\n    <tr>\n      <th>1</th>\n      <td>22</td>\n    </tr>\n    <tr>\n      <th>2</th>\n      <td>17780</td>\n    </tr>\n    <tr>\n      <th>3</th>\n      <td>173</td>\n    </tr>\n    <tr>\n      <th>4</th>\n      <td>4658</td>\n    </tr>\n    <tr>\n      <th>5</th>\n      <td>2</td>\n    </tr>\n    <tr>\n      <th>6</th>\n      <td>2603</td>\n    </tr>\n    <tr>\n      <th>7</th>\n      <td>11</td>\n    </tr>\n    <tr>\n      <th>8</th>\n      <td>883</td>\n    </tr>\n    <tr>\n      <th>9</th>\n      <td>595</td>\n    </tr>\n    <tr>\n      <th>10</th>\n      <td>998</td>\n    </tr>\n    <tr>\n      <th>11</th>\n      <td>549</td>\n    </tr>\n    <tr>\n      <th>12</th>\n      <td>7</td>\n    </tr>\n  </tbody>\n</table>\n</div>"
     },
     "execution_count": 19,
     "metadata": {},
     "output_type": "execute_result"
    }
   ],
   "source": [
    "all_data.groupby(['classes']).count()"
   ],
   "metadata": {
    "collapsed": false,
    "pycharm": {
     "name": "#%%\n"
    }
   }
  },
  {
   "cell_type": "code",
   "execution_count": 18,
   "outputs": [],
   "source": [
    "all_data.to_csv('new_data/dataset.csv', index=False)"
   ],
   "metadata": {
    "collapsed": false,
    "pycharm": {
     "name": "#%%\n"
    }
   }
  },
  {
   "cell_type": "code",
   "execution_count": 20,
   "outputs": [],
   "source": [
    "df1=all_data.sample(frac=0.8,random_state=24) #sample 函数\n",
    "df2=all_data.drop(df1.index) # drop"
   ],
   "metadata": {
    "collapsed": false,
    "pycharm": {
     "name": "#%%\n"
    }
   }
  },
  {
   "cell_type": "code",
   "execution_count": 21,
   "outputs": [],
   "source": [
    "df1.to_csv('new_data/train.csv', index=False)\n",
    "df2.to_csv('new_data/val.csv', index=False)"
   ],
   "metadata": {
    "collapsed": false,
    "pycharm": {
     "name": "#%%\n"
    }
   }
  },
  {
   "cell_type": "markdown",
   "source": [
    "# 给数据集按类别存放到txt中"
   ],
   "metadata": {
    "collapsed": false,
    "pycharm": {
     "name": "#%% md\n"
    }
   }
  },
  {
   "cell_type": "code",
   "execution_count": 14,
   "outputs": [
    {
     "data": {
      "text/plain": "       classes                                          urls\n0           11                              nx3.hhhtklch.com\n1            2                                    qdhkdn.com\n2            2                                   retrwerw.cn\n3            0  c688a3a485c9c452b85cd79c071ae73f.jddebug.com\n4            0            1656213086865.032.sngdia.imtmp.net\n...        ...                                           ...\n63366        4                                 s.1717388.com\n63367        4                                     56gan.com\n63368        4                          fxswxz1.zhanyu55.com\n63369        4                                  x.flmall.vip\n63370        4                             www.basirlabs.com\n\n[63371 rows x 2 columns]",
      "text/html": "<div>\n<style scoped>\n    .dataframe tbody tr th:only-of-type {\n        vertical-align: middle;\n    }\n\n    .dataframe tbody tr th {\n        vertical-align: top;\n    }\n\n    .dataframe thead th {\n        text-align: right;\n    }\n</style>\n<table border=\"1\" class=\"dataframe\">\n  <thead>\n    <tr style=\"text-align: right;\">\n      <th></th>\n      <th>classes</th>\n      <th>urls</th>\n    </tr>\n  </thead>\n  <tbody>\n    <tr>\n      <th>0</th>\n      <td>11</td>\n      <td>nx3.hhhtklch.com</td>\n    </tr>\n    <tr>\n      <th>1</th>\n      <td>2</td>\n      <td>qdhkdn.com</td>\n    </tr>\n    <tr>\n      <th>2</th>\n      <td>2</td>\n      <td>retrwerw.cn</td>\n    </tr>\n    <tr>\n      <th>3</th>\n      <td>0</td>\n      <td>c688a3a485c9c452b85cd79c071ae73f.jddebug.com</td>\n    </tr>\n    <tr>\n      <th>4</th>\n      <td>0</td>\n      <td>1656213086865.032.sngdia.imtmp.net</td>\n    </tr>\n    <tr>\n      <th>...</th>\n      <td>...</td>\n      <td>...</td>\n    </tr>\n    <tr>\n      <th>63366</th>\n      <td>4</td>\n      <td>s.1717388.com</td>\n    </tr>\n    <tr>\n      <th>63367</th>\n      <td>4</td>\n      <td>56gan.com</td>\n    </tr>\n    <tr>\n      <th>63368</th>\n      <td>4</td>\n      <td>fxswxz1.zhanyu55.com</td>\n    </tr>\n    <tr>\n      <th>63369</th>\n      <td>4</td>\n      <td>x.flmall.vip</td>\n    </tr>\n    <tr>\n      <th>63370</th>\n      <td>4</td>\n      <td>www.basirlabs.com</td>\n    </tr>\n  </tbody>\n</table>\n<p>63371 rows × 2 columns</p>\n</div>"
     },
     "execution_count": 14,
     "metadata": {},
     "output_type": "execute_result"
    }
   ],
   "source": [
    "train_data = pd.read_csv('new_data/dataset.csv', names=['classes', 'urls'], header=0)\n",
    "train_data"
   ],
   "metadata": {
    "collapsed": false,
    "pycharm": {
     "name": "#%%\n"
    }
   }
  },
  {
   "cell_type": "code",
   "execution_count": 15,
   "outputs": [
    {
     "data": {
      "text/plain": "          urls\nclasses       \n0        35090\n1           22\n2        17780\n3          173\n4         4658\n5            2\n6         2603\n7           11\n8          883\n9          595\n10         998\n11         549\n12           7",
      "text/html": "<div>\n<style scoped>\n    .dataframe tbody tr th:only-of-type {\n        vertical-align: middle;\n    }\n\n    .dataframe tbody tr th {\n        vertical-align: top;\n    }\n\n    .dataframe thead th {\n        text-align: right;\n    }\n</style>\n<table border=\"1\" class=\"dataframe\">\n  <thead>\n    <tr style=\"text-align: right;\">\n      <th></th>\n      <th>urls</th>\n    </tr>\n    <tr>\n      <th>classes</th>\n      <th></th>\n    </tr>\n  </thead>\n  <tbody>\n    <tr>\n      <th>0</th>\n      <td>35090</td>\n    </tr>\n    <tr>\n      <th>1</th>\n      <td>22</td>\n    </tr>\n    <tr>\n      <th>2</th>\n      <td>17780</td>\n    </tr>\n    <tr>\n      <th>3</th>\n      <td>173</td>\n    </tr>\n    <tr>\n      <th>4</th>\n      <td>4658</td>\n    </tr>\n    <tr>\n      <th>5</th>\n      <td>2</td>\n    </tr>\n    <tr>\n      <th>6</th>\n      <td>2603</td>\n    </tr>\n    <tr>\n      <th>7</th>\n      <td>11</td>\n    </tr>\n    <tr>\n      <th>8</th>\n      <td>883</td>\n    </tr>\n    <tr>\n      <th>9</th>\n      <td>595</td>\n    </tr>\n    <tr>\n      <th>10</th>\n      <td>998</td>\n    </tr>\n    <tr>\n      <th>11</th>\n      <td>549</td>\n    </tr>\n    <tr>\n      <th>12</th>\n      <td>7</td>\n    </tr>\n  </tbody>\n</table>\n</div>"
     },
     "execution_count": 15,
     "metadata": {},
     "output_type": "execute_result"
    }
   ],
   "source": [
    "train_data.groupby(['classes']).count()"
   ],
   "metadata": {
    "collapsed": false,
    "pycharm": {
     "name": "#%%\n"
    }
   }
  },
  {
   "cell_type": "code",
   "execution_count": 18,
   "outputs": [],
   "source": [
    "classfied_data_list = []\n",
    "for i in range(1, 13):\n",
    "# for i in range(1, 13):\n",
    "    classfied_data = train_data[train_data['classes'] == i]\n",
    "    classfied_data_list.append(classfied_data)\n",
    "    if classfied_data.size != 0:\n",
    "        classfied_data['urls'].to_csv('classfied_data/class_{}.txt'.format(i), index=False, header=False)"
   ],
   "metadata": {
    "collapsed": false,
    "pycharm": {
     "name": "#%%\n"
    }
   }
  },
  {
   "cell_type": "code",
   "execution_count": 20,
   "outputs": [
    {
     "data": {
      "text/plain": "18675      kqzwbh.cn\n23311    luolips.com\nName: urls, dtype: object"
     },
     "execution_count": 20,
     "metadata": {},
     "output_type": "execute_result"
    }
   ],
   "source": [
    "example = train_data[train_data['classes'] == 5]\n",
    "example['urls']"
   ],
   "metadata": {
    "collapsed": false,
    "pycharm": {
     "name": "#%%\n"
    }
   }
  },
  {
   "cell_type": "code",
   "execution_count": 22,
   "outputs": [
    {
     "data": {
      "text/plain": "58706    gc13.port0.org\n58707          mnytt.cn\n58708      www.newrc.cn\n58709      bbs.mnytt.cn\n58710      www.06fj.com\n58711    sandy.cesy.top\n58712        bzsclb1.cn\nName: urls, dtype: object"
     },
     "execution_count": 22,
     "metadata": {},
     "output_type": "execute_result"
    }
   ],
   "source": [
    "classfied_data['urls']"
   ],
   "metadata": {
    "collapsed": false,
    "pycharm": {
     "name": "#%%\n"
    }
   }
  },
  {
   "cell_type": "code",
   "execution_count": null,
   "outputs": [],
   "source": [],
   "metadata": {
    "collapsed": false,
    "pycharm": {
     "name": "#%%\n"
    }
   }
  },
  {
   "cell_type": "code",
   "execution_count": 12,
   "outputs": [],
   "source": [
    "train_loss = [1,42,156,16,51]\n",
    "valid_loss = [1,42,156,16,51]\n",
    "train_epochs_loss = [156,16,51]\n",
    "valid_epochs_loss = [156,16,51]\n",
    "\n",
    "df = pd.DataFrame({'train_loss':pd.Series(train_loss), 'valid_loss':pd.Series(valid_loss),\n",
    "                   'train_epochs_loss': pd.Series(train_epochs_loss), 'valid_epochs_loss':pd.Series(valid_epochs_loss)})\n",
    "df.to_excel('result.xlsx')"
   ],
   "metadata": {
    "collapsed": false,
    "pycharm": {
     "name": "#%%\n"
    }
   }
  },
  {
   "cell_type": "code",
   "execution_count": 8,
   "outputs": [
    {
     "data": {
      "text/plain": "0      1\n1     42\n2    156\n3     16\n4     51\ndtype: int64"
     },
     "execution_count": 8,
     "metadata": {},
     "output_type": "execute_result"
    }
   ],
   "source": [
    "pd.Series(train_loss)"
   ],
   "metadata": {
    "collapsed": false,
    "pycharm": {
     "name": "#%%\n"
    }
   }
  },
  {
   "cell_type": "code",
   "execution_count": 14,
   "outputs": [
    {
     "data": {
      "text/plain": "{4: 156, 5: 151656, 6: 1565}"
     },
     "execution_count": 14,
     "metadata": {},
     "output_type": "execute_result"
    }
   ],
   "source": [
    "score_dict = dict()\n",
    "score_dict[4] = 156\n",
    "score_dict[5] = 151656\n",
    "score_dict[6] = 1565\n",
    "score_dict"
   ],
   "metadata": {
    "collapsed": false,
    "pycharm": {
     "name": "#%%\n"
    }
   }
  },
  {
   "cell_type": "code",
   "execution_count": 23,
   "outputs": [
    {
     "data": {
      "text/plain": "{4: 156, 5: 151656, 6: 12412}"
     },
     "execution_count": 23,
     "metadata": {},
     "output_type": "execute_result"
    }
   ],
   "source": [
    "precision_dict = dict()\n",
    "precision_dict[4] = 156\n",
    "precision_dict[5] = 151656\n",
    "precision_dict[6] = 12412\n",
    "precision_dict"
   ],
   "metadata": {
    "collapsed": false,
    "pycharm": {
     "name": "#%%\n"
    }
   }
  },
  {
   "cell_type": "code",
   "execution_count": 26,
   "outputs": [
    {
     "data": {
      "text/plain": "   class  score_dict  precision_dict  precision_dict2\n0      4         156             156              156\n1      5      151656          151656           151656\n2      6       11111           12412            12412",
      "text/html": "<div>\n<style scoped>\n    .dataframe tbody tr th:only-of-type {\n        vertical-align: middle;\n    }\n\n    .dataframe tbody tr th {\n        vertical-align: top;\n    }\n\n    .dataframe thead th {\n        text-align: right;\n    }\n</style>\n<table border=\"1\" class=\"dataframe\">\n  <thead>\n    <tr style=\"text-align: right;\">\n      <th></th>\n      <th>class</th>\n      <th>score_dict</th>\n      <th>precision_dict</th>\n      <th>precision_dict2</th>\n    </tr>\n  </thead>\n  <tbody>\n    <tr>\n      <th>0</th>\n      <td>4</td>\n      <td>156</td>\n      <td>156</td>\n      <td>156</td>\n    </tr>\n    <tr>\n      <th>1</th>\n      <td>5</td>\n      <td>151656</td>\n      <td>151656</td>\n      <td>151656</td>\n    </tr>\n    <tr>\n      <th>2</th>\n      <td>6</td>\n      <td>11111</td>\n      <td>12412</td>\n      <td>12412</td>\n    </tr>\n  </tbody>\n</table>\n</div>"
     },
     "execution_count": 26,
     "metadata": {},
     "output_type": "execute_result"
    }
   ],
   "source": [
    "score_df = pd.DataFrame(list(score_dict.items()), columns=['class', 'score_dict'])\n",
    "precision_df = pd.DataFrame(list(precision_dict.items()), columns=['class', 'precision_dict'])\n",
    "precision_df2 = pd.DataFrame(list(precision_dict.items()), columns=['class', 'precision_dict2'])\n",
    "score_df = score_df.merge(precision_df)\n",
    "score_df.merge(precision_df2)"
   ],
   "metadata": {
    "collapsed": false,
    "pycharm": {
     "name": "#%%\n"
    }
   }
  },
  {
   "cell_type": "code",
   "execution_count": 18,
   "outputs": [
    {
     "data": {
      "text/plain": "[(4, 156), (5, 151656), (6, 1565)]"
     },
     "execution_count": 18,
     "metadata": {},
     "output_type": "execute_result"
    }
   ],
   "source": [],
   "metadata": {
    "collapsed": false,
    "pycharm": {
     "name": "#%%\n"
    }
   }
  },
  {
   "cell_type": "code",
   "execution_count": null,
   "outputs": [],
   "source": [],
   "metadata": {
    "collapsed": false,
    "pycharm": {
     "name": "#%%\n"
    }
   }
  }
 ],
 "metadata": {
  "kernelspec": {
   "display_name": "Python 3",
   "language": "python",
   "name": "python3"
  },
  "language_info": {
   "codemirror_mode": {
    "name": "ipython",
    "version": 2
   },
   "file_extension": ".py",
   "mimetype": "text/x-python",
   "name": "python",
   "nbconvert_exporter": "python",
   "pygments_lexer": "ipython2",
   "version": "2.7.6"
  }
 },
 "nbformat": 4,
 "nbformat_minor": 0
}